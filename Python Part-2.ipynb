{
 "cells": [
  {
   "cell_type": "markdown",
   "metadata": {},
   "source": [
    "## Looping Statements"
   ]
  },
  {
   "cell_type": "markdown",
   "metadata": {},
   "source": [
    "# Loop : Repeating"
   ]
  },
  {
   "cell_type": "markdown",
   "metadata": {},
   "source": [
    "## Topics:\n",
    "\n",
    "- Looping Statement\n",
    "  - While Loop\n",
    "  - while Loop with else\n",
    "  - For Loop\n",
    "  - range() function\n",
    "  - Loop Nesting\n",
    "  - Break and Continue\n",
    "\n",
    "## Looping Statements\n",
    "\n",
    "When a block of statements is required to be executed, repeatedly, we use looping statements.\n",
    "\n",
    "1.while\n",
    "\n",
    "2.for\n",
    "\n",
    "3.Nested"
   ]
  },
  {
   "cell_type": "markdown",
   "metadata": {},
   "source": [
    "## While loop:\n",
    "\n",
    "#### As long as the condition is true, a block of statements under while are executed repeatedly.\n",
    "\n",
    "Once the condition is false, the loop stops execution and control goes immediate next statement after while\n",
    "block.\n",
    "\n",
    "While loops are known as indefinite or conditional loops. They will keep iterating until certain conditions are met. There is no guarantee ahead of time regarding how many times the loop will iterate.\n",
    "\n",
    "### Syntax\n",
    "\n",
    "while expression:\n",
    "    \n",
    "    statements"
   ]
  },
  {
   "cell_type": "markdown",
   "metadata": {},
   "source": [
    "#### Remember:\n",
    "    \n",
    "- The body of the loop is entered only if the test_expression evaluates to True.\n",
    "- After one iteration, the test expression is checked again.\n",
    "- This process continues until the test_expression evaluates to False."
   ]
  },
  {
   "cell_type": "markdown",
   "metadata": {},
   "source": [
    "### Why we need loops? \n",
    "\n",
    "Example Salaries in a company\n",
    "\n",
    "We are not writing logic for each employee. We are writing logic once and calculating all employees salaries\n",
    "\n",
    "    1) Size of the code reduce that is nothing but decreasing the length\n",
    "    \n",
    "    2) Complexity of code reduces\n",
    "    \n",
    "    3) more efficient \n",
    "    \n",
    "    4) Increase the speed of execution"
   ]
  },
  {
   "cell_type": "markdown",
   "metadata": {},
   "source": [
    "### What are loops? \n",
    "\n",
    "    1) Loops allows the execution of a statement or a group of statement multiple times.\n",
    "    \n",
    "    2) In order to enter the loops there are certain conditions defined in the beginning\n",
    "    \n",
    "    3) Once the condition become false the loops stops and the control moves out of the loop"
   ]
  },
  {
   "cell_type": "markdown",
   "metadata": {},
   "source": [
    "### Pro test loops and Pre test loops"
   ]
  },
  {
   "cell_type": "markdown",
   "metadata": {},
   "source": [
    "##### Pro Test loops\n",
    "\n",
    "\n",
    "    1) Post TEST FIRST CONTROLLER ENTER THE LOOP AND THEN IT CHECK THE CONDITIOIN\n",
    "    \n",
    "Note: In python we don't have Pro test loops\n"
   ]
  },
  {
   "cell_type": "markdown",
   "metadata": {},
   "source": [
    "##### Pre Test Loops\n",
    "\n",
    "    1) PRE TEST FIRST CONTROLLER CHECKS CONDITION AND THEN IT ENTER THE LOOP"
   ]
  },
  {
   "cell_type": "code",
   "execution_count": 1,
   "metadata": {},
   "outputs": [
    {
     "data": {
      "text/plain": [
       "['BMW', 'Audi', 'Tata', 'Renault', 'Ferrari']"
      ]
     },
     "execution_count": 1,
     "metadata": {},
     "output_type": "execute_result"
    }
   ],
   "source": [
    "Cars =['BMW', 'Audi', 'Tata', 'Renault', 'Ferrari']\n",
    "Cars"
   ]
  },
  {
   "cell_type": "code",
   "execution_count": 2,
   "metadata": {},
   "outputs": [
    {
     "name": "stdout",
     "output_type": "stream",
     "text": [
      "Car companies in India : BMW\n",
      "Car companies in India : Audi\n",
      "Car companies in India : Tata\n",
      "Car companies in India : Renault\n",
      "Car companies in India : Ferrari\n"
     ]
    }
   ],
   "source": [
    "for car in Cars:\n",
    "    print(\"Car companies in India :\", car)"
   ]
  },
  {
   "cell_type": "code",
   "execution_count": 3,
   "metadata": {},
   "outputs": [
    {
     "name": "stdout",
     "output_type": "stream",
     "text": [
      "t\n",
      "h\n",
      "i\n",
      "s\n",
      " \n",
      "i\n",
      "s\n",
      " \n",
      "c\n",
      "p\n",
      "u\n"
     ]
    }
   ],
   "source": [
    "x='this is cpu'\n",
    "for i in x:\n",
    "    print(i)"
   ]
  },
  {
   "cell_type": "code",
   "execution_count": 4,
   "metadata": {},
   "outputs": [
    {
     "name": "stdout",
     "output_type": "stream",
     "text": [
      "Hello Class\n",
      "Hello Class\n",
      "Hello Class\n",
      "3\n"
     ]
    }
   ],
   "source": [
    "count = 0\n",
    "\n",
    "while (count < 3):\n",
    "    count = count + 1\n",
    "    print(\"Hello Class\")\n",
    "    \n",
    "print(count)    "
   ]
  },
  {
   "cell_type": "code",
   "execution_count": 5,
   "metadata": {},
   "outputs": [
    {
     "name": "stdout",
     "output_type": "stream",
     "text": [
      "2\n",
      "3\n",
      "4\n",
      "5\n",
      "6\n"
     ]
    }
   ],
   "source": [
    "i = 1\n",
    "\n",
    "while i <= 5:\n",
    "    i += 1 # i = 1 + i\n",
    "    print(i)   "
   ]
  },
  {
   "cell_type": "code",
   "execution_count": 6,
   "metadata": {},
   "outputs": [
    {
     "name": "stdout",
     "output_type": "stream",
     "text": [
      "15\n",
      "45\n",
      "75\n"
     ]
    }
   ],
   "source": [
    "i = 1\n",
    "while i <= 100:\n",
    "    if i%3 == 0 and i%10 == 5:\n",
    "        print(i)\n",
    "    i += 1   "
   ]
  },
  {
   "cell_type": "code",
   "execution_count": 7,
   "metadata": {},
   "outputs": [
    {
     "name": "stdout",
     "output_type": "stream",
     "text": [
      "A\n",
      "p\n",
      "p\n",
      "l\n",
      "e\n"
     ]
    }
   ],
   "source": [
    "i = 0\n",
    "s = 'Apple'\n",
    "while i < len(s):\n",
    "    print(s[i])\n",
    "    i += 1"
   ]
  },
  {
   "cell_type": "code",
   "execution_count": 8,
   "metadata": {},
   "outputs": [
    {
     "name": "stdout",
     "output_type": "stream",
     "text": [
      "10\n",
      "9\n",
      "8\n",
      "7\n",
      "6\n",
      "5\n",
      "4\n",
      "3\n",
      "2\n",
      "1\n"
     ]
    }
   ],
   "source": [
    "i = 10\n",
    "while i>0:\n",
    "    print(i)\n",
    "    i=i-1"
   ]
  },
  {
   "cell_type": "code",
   "execution_count": 9,
   "metadata": {},
   "outputs": [
    {
     "name": "stdout",
     "output_type": "stream",
     "text": [
      "1\n",
      "2\n",
      "3\n",
      "4\n",
      "5\n",
      "i is no longer less than 6\n"
     ]
    }
   ],
   "source": [
    "i = 1\n",
    "while i < 6:\n",
    "    print(i)\n",
    "    i += 1\n",
    "else:\n",
    "    print(\"i is no longer less than 6\")"
   ]
  },
  {
   "cell_type": "code",
   "execution_count": 10,
   "metadata": {},
   "outputs": [],
   "source": [
    "i = 1"
   ]
  },
  {
   "cell_type": "code",
   "execution_count": 11,
   "metadata": {},
   "outputs": [
    {
     "name": "stdout",
     "output_type": "stream",
     "text": [
      "print me\n",
      "print me\n",
      "print me\n",
      "print me\n",
      "print me\n"
     ]
    }
   ],
   "source": [
    "while i<=5:\n",
    "    print('print me')\n",
    "    i=i+1"
   ]
  },
  {
   "cell_type": "code",
   "execution_count": 12,
   "metadata": {},
   "outputs": [
    {
     "data": {
      "text/plain": [
       "6"
      ]
     },
     "execution_count": 12,
     "metadata": {},
     "output_type": "execute_result"
    }
   ],
   "source": [
    "i"
   ]
  },
  {
   "cell_type": "code",
   "execution_count": 13,
   "metadata": {},
   "outputs": [],
   "source": [
    "i=1"
   ]
  },
  {
   "cell_type": "code",
   "execution_count": 14,
   "metadata": {},
   "outputs": [
    {
     "name": "stdout",
     "output_type": "stream",
     "text": [
      "1 print me\n",
      "2 print me\n",
      "3 print me\n",
      "4 print me\n",
      "5 print me\n"
     ]
    }
   ],
   "source": [
    "while i<=5:\n",
    "    #print('print me', i)\n",
    "    print(i, 'print me')\n",
    "    i=i+1"
   ]
  },
  {
   "cell_type": "markdown",
   "metadata": {},
   "source": [
    "# Finding number of digits in a number"
   ]
  },
  {
   "cell_type": "code",
   "execution_count": 15,
   "metadata": {
    "scrolled": true
   },
   "outputs": [
    {
     "name": "stdout",
     "output_type": "stream",
     "text": [
      "Enter number:5\n",
      "The number of digits in the number are: 1\n"
     ]
    }
   ],
   "source": [
    "n=int(input(\"Enter number:\"))\n",
    "count=0\n",
    "while(n>0):\n",
    "    count=count+1\n",
    "    n=n//10\n",
    "print(\"The number of digits in the number are:\",count)"
   ]
  },
  {
   "cell_type": "markdown",
   "metadata": {},
   "source": [
    "Here\n",
    "\n",
    "1) i=1 is initialization\n",
    "\n",
    "2) i<=5 is condition\n",
    "\n",
    "3) i=i+1 is increment/decrement"
   ]
  },
  {
   "cell_type": "code",
   "execution_count": 16,
   "metadata": {},
   "outputs": [],
   "source": [
    "i=1\n",
    "j=1"
   ]
  },
  {
   "cell_type": "code",
   "execution_count": 17,
   "metadata": {},
   "outputs": [
    {
     "name": "stdout",
     "output_type": "stream",
     "text": [
      "print hi 1\n",
      "print hello 1 1\n",
      "print hello 1 2\n",
      "print hello 1 3\n",
      "print hello 1 4\n",
      "print hello 1 5\n",
      "print hi 2\n",
      "print hi 3\n",
      "print hi 4\n",
      "print hi 5\n"
     ]
    }
   ],
   "source": [
    "while i<=5:\n",
    "    print('print hi', i)\n",
    "    \n",
    "    while j<=5:\n",
    "        print('print hello',i, j)\n",
    "        j=j+1\n",
    "     \n",
    "    i=i+1"
   ]
  },
  {
   "cell_type": "code",
   "execution_count": 18,
   "metadata": {},
   "outputs": [],
   "source": [
    "i=1\n",
    "j=1"
   ]
  },
  {
   "cell_type": "code",
   "execution_count": 19,
   "metadata": {},
   "outputs": [
    {
     "name": "stdout",
     "output_type": "stream",
     "text": [
      "print hi 1print hello 1 1\n",
      "print hello 1 2\n",
      "print hello 1 3\n",
      "print hello 1 4\n",
      "print hello 1 5\n",
      "print hi 2print hi 3print hi 4print hi 5"
     ]
    }
   ],
   "source": [
    "while i<=5:\n",
    "    print('print hi', i, end=\"\")\n",
    "    while j<=5:\n",
    "        print('print hello',i, j)\n",
    "        j=j+1\n",
    "    i=i+1    "
   ]
  },
  {
   "cell_type": "markdown",
   "metadata": {},
   "source": [
    "## while Loop with else\n",
    "\n",
    "#### The else part is executed if the condition in the while loop evaluates to False.\n",
    "\n",
    "- The while loop can be terminated with a break statement.\n",
    "- In such case, the else part is ignored. Hence, a while loop's else part runs if no break occurs and the\n",
    "condition is false."
   ]
  },
  {
   "cell_type": "markdown",
   "metadata": {},
   "source": [
    "- With the else statement we can run a block of code once when the condition no longer is true:"
   ]
  },
  {
   "cell_type": "code",
   "execution_count": 20,
   "metadata": {},
   "outputs": [
    {
     "name": "stdout",
     "output_type": "stream",
     "text": [
      "1\n",
      "2\n",
      "3\n",
      "4\n",
      "5\n",
      "no item left in the list\n"
     ]
    }
   ],
   "source": [
    "numbers = [1,2,3,4,5]\n",
    "\n",
    "#iterating over the list\n",
    "index = 0\n",
    "while index < len(numbers):\n",
    "    print(numbers[index])\n",
    "    index += 1\n",
    "else:\n",
    "    print(\"no item left in the list\")"
   ]
  },
  {
   "cell_type": "code",
   "execution_count": 21,
   "metadata": {},
   "outputs": [
    {
     "name": "stdout",
     "output_type": "stream",
     "text": [
      "Inside loop\n",
      "Inside loop\n",
      "Inside loop\n",
      "Inside else\n"
     ]
    }
   ],
   "source": [
    "number = 0\n",
    "\n",
    "while number < 3:\n",
    "    print(\"Inside loop\")\n",
    "    number = number + 1\n",
    "else:\n",
    "    print(\"Inside else\")"
   ]
  },
  {
   "cell_type": "code",
   "execution_count": 22,
   "metadata": {},
   "outputs": [
    {
     "name": "stdout",
     "output_type": "stream",
     "text": [
      "1\n",
      "2\n",
      "3\n",
      "4\n",
      "5\n",
      "i is no longer less than 6\n"
     ]
    }
   ],
   "source": [
    "i = 1\n",
    "while i <6:\n",
    "    print(i)\n",
    "    i += 1\n",
    "else:\n",
    "    print('i is no longer less than 6')"
   ]
  },
  {
   "cell_type": "code",
   "execution_count": 23,
   "metadata": {},
   "outputs": [
    {
     "name": "stdout",
     "output_type": "stream",
     "text": [
      "5\n",
      "5 is a positive number and divisible by 5\n"
     ]
    }
   ],
   "source": [
    "x=int(input())\n",
    "if x>=0 or x%5==0:\n",
    "    print(x,\"is a positive number and divisible by 5\" )\n",
    "else:\n",
    "    print(x, \"is a negative number and not divisible by 5\")"
   ]
  },
  {
   "cell_type": "markdown",
   "metadata": {},
   "source": [
    "## Check If a number is Prime or not"
   ]
  },
  {
   "cell_type": "markdown",
   "metadata": {},
   "source": [
    "- Number which is divisible by 1 and Itself"
   ]
  },
  {
   "cell_type": "code",
   "execution_count": 24,
   "metadata": {},
   "outputs": [
    {
     "name": "stdout",
     "output_type": "stream",
     "text": [
      "Enter any number: 5\n",
      "5 is not a prime number\n"
     ]
    }
   ],
   "source": [
    "# With if else\n",
    "\n",
    "number = int(input(\"Enter any number: \"))\n",
    "\n",
    "# prime number is always greater than 1\n",
    "if number > 1:\n",
    "    for i in range(2, number):\n",
    "        if (number % i) == 0:\n",
    "            print(number, \"is a prime number\")\n",
    "            break\n",
    "    else:\n",
    "        print(number, \"is not a prime number\")\n",
    "        \n",
    "# if the entered number is less than or equal to 1\n",
    "# then it is not prime number\n",
    "\n",
    "else:\n",
    "    print(number, \"is not a prime number\")"
   ]
  },
  {
   "cell_type": "markdown",
   "metadata": {},
   "source": [
    "# Example : finding random number from 0 to 20"
   ]
  },
  {
   "cell_type": "code",
   "execution_count": null,
   "metadata": {},
   "outputs": [
    {
     "name": "stdout",
     "output_type": "stream",
     "text": [
      "New Number: 5\n",
      "Number too large\n"
     ]
    }
   ],
   "source": [
    "import random\n",
    "\n",
    "n=20\n",
    "\n",
    "to_be_guessed = int(n * random.random()) + 1\n",
    "\n",
    "guess = 0\n",
    "while guess != to_be_guessed:\n",
    "    guess = int(input(\"New Number: \"))\n",
    "    if guess > 0:\n",
    "        if guess > to_be_guessed:\n",
    "            print(\"Number too large\")\n",
    "            \n",
    "        elif guess < to_be_guessed:\n",
    "            print(\"Number too Small\")\n",
    "            \n",
    "    else:\n",
    "        print(\"Sorry that you're giving up!\")\n",
    "        break\n",
    "        \n",
    "else:\n",
    "    print(\"congratulation. you made it!\")"
   ]
  },
  {
   "cell_type": "code",
   "execution_count": null,
   "metadata": {},
   "outputs": [],
   "source": [
    "#Vending Machine\n",
    "\n",
    "x=int(input(\"How many apples you want?\"))\n",
    "\n",
    "i=1\n",
    "while i<=x:\n",
    "    print(\"Apple\", i)\n",
    "    i+=1"
   ]
  },
  {
   "cell_type": "markdown",
   "metadata": {},
   "source": [
    "## for loop\n",
    "\n",
    "- for loop in python completely works on iteration protocol.\n",
    "- The for loop in Python is used to iterate over a sequence (list, tuple, string) or other iterable\n",
    "objects.\n",
    "- Iterating over a sequence is called traversal."
   ]
  },
  {
   "cell_type": "markdown",
   "metadata": {},
   "source": [
    "Here, iterator_var is the variable that takes the value of the item inside the sequence on each iteration.\n",
    "- Loop continues until we reach the last item in the sequence."
   ]
  },
  {
   "cell_type": "markdown",
   "metadata": {},
   "source": [
    "- A for loop is used for iterating over a sequence \n",
    "- (that is either a list, a tuple, a dictionary, a set, or a string).\n",
    "\n",
    "- This is less like the for keyword in other programming languages, \n",
    "and works more like an iterator method as found in other object-orientated programming languages.\n",
    "\n",
    "- With the for loop we can execute a set of statements,\n",
    " once for each item in a list, tuple, set etc."
   ]
  },
  {
   "cell_type": "markdown",
   "metadata": {},
   "source": [
    "For loop is a python loop which repeats a group statements a specified number of times. The for loop provides a syntax where the following information is provided.\n",
    "\n",
    "1) Boolean condition\n",
    "\n",
    "2) The initial value of the counting variable\n",
    "\n",
    "3) Incrementation of counting variable"
   ]
  },
  {
   "cell_type": "markdown",
   "metadata": {},
   "source": [
    "# Syntax\n",
    "for (variable) in (range):\n",
    "\n",
    "Stmt 1\n",
    "\n",
    "Stmt 2\n",
    "\n",
    ".\n",
    "\n",
    ".\n",
    "\n",
    ".\n",
    "\n",
    "Stmt n"
   ]
  },
  {
   "cell_type": "code",
   "execution_count": null,
   "metadata": {},
   "outputs": [],
   "source": [
    "# Iterating over a list\n",
    "print(\"List Iteration\")\n",
    "\n",
    "l = [\"hemanth\",\"varma\",'gvn']\n",
    "for i in l:\n",
    "    print(i)"
   ]
  },
  {
   "cell_type": "code",
   "execution_count": null,
   "metadata": {},
   "outputs": [],
   "source": [
    "# Find product of all numbers present in a list\n",
    "\n",
    "lst = [10,20,30,40,50]\n",
    "product = 1\n",
    "\n",
    "# iterating over the list\n",
    "for ele in lst:\n",
    "    product *= ele\n",
    "    \n",
    "print(\"Product is: {}\".format(product))    "
   ]
  },
  {
   "cell_type": "code",
   "execution_count": null,
   "metadata": {},
   "outputs": [],
   "source": [
    "# Iterating over a String\n",
    "\n",
    "# print(\"\\nString Iteration\")\n",
    "\n",
    "s = \"Hemanth\"\n",
    "for i in s:\n",
    "    print(i)"
   ]
  },
  {
   "cell_type": "code",
   "execution_count": null,
   "metadata": {},
   "outputs": [],
   "source": [
    "snacks = ['pizza','burger','shawarma','franky']\n",
    "\n",
    "for snack in snacks:\n",
    "    print(\"current snack: \", snack)"
   ]
  },
  {
   "cell_type": "code",
   "execution_count": null,
   "metadata": {},
   "outputs": [],
   "source": [
    "#Print each fruit in a fruit list:\n",
    "\n",
    "fruits = [\"apple\", \"banana\", \"cherry\"]\n",
    "for x in fruits:\n",
    "    print(x)  \n",
    "  "
   ]
  },
  {
   "cell_type": "markdown",
   "metadata": {},
   "source": [
    "- The for loop does not require an indexing variable to set beforehand.\n",
    "\n",
    "- Looping Through a String\n",
    "- Even strings are iterable objects, they contain a sequence of characters:\n",
    "\n",
    "- Loop through the letters in the word \"banana\":"
   ]
  },
  {
   "cell_type": "code",
   "execution_count": null,
   "metadata": {},
   "outputs": [],
   "source": [
    "for x in \"banana\":\n",
    "    print(x)"
   ]
  },
  {
   "cell_type": "code",
   "execution_count": null,
   "metadata": {},
   "outputs": [],
   "source": [
    "for i in range(10):\n",
    "    print(i)\n",
    "for i in range(1,15):\n",
    "    print(i)\n",
    "for i in range(1,20,2):\n",
    "    print(i)"
   ]
  },
  {
   "cell_type": "code",
   "execution_count": null,
   "metadata": {},
   "outputs": [],
   "source": [
    "stock_prices = [['Apple', 300],[\"samsung\",400],[\"nokia\",100]]"
   ]
  },
  {
   "cell_type": "code",
   "execution_count": null,
   "metadata": {},
   "outputs": [],
   "source": [
    "for items in stock_prices:\n",
    "    print(items)"
   ]
  },
  {
   "cell_type": "code",
   "execution_count": null,
   "metadata": {},
   "outputs": [],
   "source": [
    "d = {'k1':1,'k2':2,'k3':3}"
   ]
  },
  {
   "cell_type": "code",
   "execution_count": null,
   "metadata": {},
   "outputs": [],
   "source": [
    "for item in d.items():\n",
    "    print(item)"
   ]
  },
  {
   "cell_type": "code",
   "execution_count": null,
   "metadata": {},
   "outputs": [],
   "source": [
    "for key, value in d.items():\n",
    "    print(key)\n",
    "    print(value)"
   ]
  },
  {
   "cell_type": "code",
   "execution_count": null,
   "metadata": {},
   "outputs": [],
   "source": [
    "light = ['a','b','c']\n",
    "for i in light:\n",
    "    print(i)\n",
    "    if i=='k':\n",
    "        print(light)\n",
    "    else:\n",
    "        print(i)"
   ]
  },
  {
   "cell_type": "code",
   "execution_count": null,
   "metadata": {},
   "outputs": [],
   "source": [
    "KK = ['Sandeep','thiru','omkar']\n",
    "for f in KK:\n",
    "    print(f)\n",
    "    if f=='Charu':\n",
    "        print(KK)\n",
    "    else:\n",
    "        print(f)"
   ]
  },
  {
   "cell_type": "code",
   "execution_count": null,
   "metadata": {},
   "outputs": [],
   "source": [
    "Cars =['BMW', 'Audi', 'Tata', 'Renault', 'Ferrari']\n",
    "Cars"
   ]
  },
  {
   "cell_type": "code",
   "execution_count": null,
   "metadata": {},
   "outputs": [],
   "source": [
    "for car in Cars:\n",
    "    print(\"Car companies in India :\", car)"
   ]
  },
  {
   "cell_type": "code",
   "execution_count": null,
   "metadata": {},
   "outputs": [],
   "source": [
    "x='this is cpu'\n",
    "for i in x:\n",
    "    print(i)"
   ]
  },
  {
   "cell_type": "code",
   "execution_count": null,
   "metadata": {},
   "outputs": [],
   "source": [
    "nums = [1, 5, 6, 9, 76, 28, 48]"
   ]
  },
  {
   "cell_type": "code",
   "execution_count": null,
   "metadata": {},
   "outputs": [],
   "source": [
    "for num in nums:\n",
    "    if num % 5 == 0:\n",
    "        print(num)"
   ]
  },
  {
   "cell_type": "markdown",
   "metadata": {},
   "source": [
    "### Finding the Factorial of the number\n",
    "\n",
    "    1) Lets find the factorial\n",
    "    \n",
    "    2) Notice we know the number of iterations so for loop is a better option"
   ]
  },
  {
   "cell_type": "code",
   "execution_count": null,
   "metadata": {},
   "outputs": [],
   "source": [
    "number = int(input(\"Enter Number: \"))\n",
    "\n",
    "factorial = 1\n",
    "\n",
    "if number < 0:\n",
    "    print(\"Number must be positive\")\n",
    "    \n",
    "elif number == 0:\n",
    "    print(\"factorial = 1\")\n",
    "    \n",
    "else:\n",
    "    for i in range(1, number + 1):\n",
    "        factorial = factorial*i\n",
    "        \n",
    "print(factorial)"
   ]
  },
  {
   "cell_type": "markdown",
   "metadata": {},
   "source": [
    "## Loop nesting\n",
    "\n",
    "loop inside of any other type of loop\n",
    "\n",
    "Here, the outer loop takes control of the number of complete repetitions of the inner loop."
   ]
  },
  {
   "cell_type": "code",
   "execution_count": null,
   "metadata": {},
   "outputs": [],
   "source": [
    "for i in range(0,3): # Print 3 ML\n",
    "    print(\"ML\")\n",
    "    \n",
    "for j in range(0,3): # Print 3 AI\n",
    "    print(\"AL\")"
   ]
  },
  {
   "cell_type": "code",
   "execution_count": null,
   "metadata": {},
   "outputs": [],
   "source": [
    "for i in range(0,3):\n",
    "    for j in range(0,3):\n",
    "        print(i,j)"
   ]
  },
  {
   "cell_type": "markdown",
   "metadata": {},
   "source": [
    "#### Sometimes Nested loops have performance considerations\n",
    "- Performance-wise, nesting loops increases execution time exponentially.\n",
    "- You don’t need to write for nested loops in most scenarios\n",
    "- Try to avoid writing nested loops, so you have better code readability"
   ]
  },
  {
   "cell_type": "code",
   "execution_count": null,
   "metadata": {},
   "outputs": [],
   "source": [
    "def pypart(n): \n",
    "      \n",
    "    # outer loop to handle number of rows \n",
    "    # n in this case \n",
    "    for i in range(0, n): \n",
    "      \n",
    "        # inner loop to handle number of columns \n",
    "        # values changing acc. to outer loop \n",
    "        for j in range(0, i+1): \n",
    "          \n",
    "            # printing stars \n",
    "            print(\"* \",end=\"\") \n",
    "       \n",
    "        # ending line after each row \n",
    "        print(\"\\r\") \n",
    "  \n",
    "# Driver Code \n",
    "n = 5\n",
    "pypart(n)   "
   ]
  },
  {
   "cell_type": "code",
   "execution_count": null,
   "metadata": {},
   "outputs": [],
   "source": [
    "#Nested while in for "
   ]
  },
  {
   "cell_type": "code",
   "execution_count": null,
   "metadata": {},
   "outputs": [],
   "source": [
    "travelling = input(\"yes or no\")\n",
    "\n",
    "while travelling == 'yes':\n",
    "    \n",
    "    num = eval(input(\"number of people travelling: \"))\n",
    "    \n",
    "    for num in range(1,num+1):\n",
    "        name = input(\"Name: \")\n",
    "        age = input(\"Age: \")\n",
    "        sex = input(\"Male or Female\")\n",
    "        print(name)\n",
    "        print(age)\n",
    "        print(sex)\n",
    "travelling = input(\"Oops! forgot someone\")    "
   ]
  },
  {
   "cell_type": "markdown",
   "metadata": {},
   "source": [
    "### Python break and continue Statements:\n",
    "\n",
    "Sometimes you need to break out of a loop or if statement if a certain condition is met.\n",
    "\n",
    "Example: Suppose you are looping over a bunch of numbers.\n",
    "    \n",
    "- If at any point in time the number 2 is encountered, you want to stop looping and continue with the rest\n",
    "of the program. But if no 2 is encountered, you want the loop to finish.\n",
    "\n",
    "The \"break\" and \"continue\" keywords are used to control more precisely how the flow of execution works\n",
    "inside of loops and if statements.\n",
    "\n",
    "- Loops iterate over a block of code until test expression is false, but sometimes we wish to terminate the\n",
    "current iteration or even the whole loop without cheking test expression.\n",
    "- The break and continue statements are used in these cases."
   ]
  },
  {
   "cell_type": "markdown",
   "metadata": {},
   "source": [
    "### Python Break Statement"
   ]
  },
  {
   "cell_type": "markdown",
   "metadata": {},
   "source": [
    "Break keyword: The break keyword tell Python to literally break out of a loop.\n",
    "    \n",
    "- Means, the loop stops completely and any code after the loop is executed\n",
    "\n",
    "#### Example:\n",
    "\n",
    "Write a loop over the numbers 1 to 6, but stops the loop when the number 4 is encountered"
   ]
  },
  {
   "cell_type": "markdown",
   "metadata": {},
   "source": [
    "- With the break statement we can stop the loop even if the while condition is true:"
   ]
  },
  {
   "cell_type": "markdown",
   "metadata": {},
   "source": [
    "- With the break statement we can stop the loop before it has looped through all the items:"
   ]
  },
  {
   "cell_type": "markdown",
   "metadata": {},
   "source": [
    "In Python, the break statement provides you with the opportunity to exit out of a loop when an external condition is triggered. You’ll put the break statement within the block of code under your loop statement, usually after a conditional if statement."
   ]
  },
  {
   "cell_type": "code",
   "execution_count": null,
   "metadata": {},
   "outputs": [],
   "source": [
    "number = 0\n",
    "\n",
    "for number in range(10):\n",
    "    if number == 5:\n",
    "        break   # break here\n",
    "        \n",
    "    print('Number is' + str(number))\n",
    "print('Out of loop')    "
   ]
  },
  {
   "cell_type": "code",
   "execution_count": null,
   "metadata": {},
   "outputs": [],
   "source": [
    "numbers = [1,2,3,4,8,5,6]\n",
    "for num in numbers:\n",
    "    if num == 4:\n",
    "        break\n",
    "    print(num)  \n",
    "else:\n",
    "    print(\"in the else block\")"
   ]
  },
  {
   "cell_type": "code",
   "execution_count": null,
   "metadata": {},
   "outputs": [],
   "source": [
    "for i in range(0,4):\n",
    "    if i == 2:\n",
    "        break\n",
    "    print(i)\n",
    "    \n",
    "print(\"Finished with i = \", str(i)) # Only the first two numbers are printed in the output    "
   ]
  },
  {
   "cell_type": "code",
   "execution_count": null,
   "metadata": {},
   "outputs": [],
   "source": [
    "# Exit the loop when i is 3:\n",
    "\n",
    "i = 1\n",
    "while i < 6:\n",
    "    i += 1\n",
    "    print(i)\n",
    "    if i == 3:\n",
    "        break\n",
    "    i +=1    "
   ]
  },
  {
   "cell_type": "code",
   "execution_count": null,
   "metadata": {},
   "outputs": [],
   "source": [
    "i = 1\n",
    "while i < 6:\n",
    "    i += 1\n",
    "    print(i)\n",
    "    if i == 3:\n",
    "        break"
   ]
  },
  {
   "cell_type": "code",
   "execution_count": null,
   "metadata": {},
   "outputs": [],
   "source": [
    "fruits = [\"apple\", \"banana\", \"cherry\", 'Mango','grapes']\n",
    "for x in fruits:\n",
    "    print(x)\n",
    "    if x == \"cherry\":\n",
    "    break"
   ]
  },
  {
   "cell_type": "code",
   "execution_count": null,
   "metadata": {},
   "outputs": [],
   "source": [
    "#available apples\n",
    "\n",
    "av=5 \n",
    "\n",
    "x=int(input(\"How many apples you want?\"))\n",
    "\n",
    "i=1\n",
    "while i<=x:\n",
    "    \n",
    "    if i>av:\n",
    "        print(\"Out of Stock.\", \"Sorry, we are unable to provide you\", x-i+1, \"apples\")\n",
    "        break\n",
    "    print(\"Apple\", i)\n",
    "    i+=1"
   ]
  },
  {
   "cell_type": "code",
   "execution_count": null,
   "metadata": {},
   "outputs": [],
   "source": [
    "nums = [1, 5, 6, 9, 75, 25, 48]\n",
    "for num in nums:\n",
    "    if num % 5 == 0:\n",
    "        print(num)\n",
    "        break"
   ]
  },
  {
   "cell_type": "code",
   "execution_count": null,
   "metadata": {},
   "outputs": [],
   "source": [
    "nums = [1, 8, 7, 9, 25,74, 27, 48]\n",
    "\n",
    "for num in nums:\n",
    "\n",
    "    if num % 5 == 0:\n",
    "        print(num)\n",
    "        break\n",
    "    else:\n",
    "        print(\"No value divisible by 5\")"
   ]
  },
  {
   "cell_type": "code",
   "execution_count": null,
   "metadata": {},
   "outputs": [],
   "source": [
    "nums = [1, 8, 4, 5, 74, 27, 48]\n",
    "\n",
    "for num in nums:\n",
    "\n",
    "    if num % 5 == 0:\n",
    "        print(num)\n",
    "        break\n",
    "else:\n",
    "    print(\"No value divisible by 5\")"
   ]
  },
  {
   "cell_type": "markdown",
   "metadata": {},
   "source": [
    "## Python Continue Statement"
   ]
  },
  {
   "cell_type": "markdown",
   "metadata": {},
   "source": [
    "- With the continue statement we can stop the current iteration, and continue with the next:"
   ]
  },
  {
   "cell_type": "markdown",
   "metadata": {},
   "source": [
    "The continue statement gives you the option to skip over the part of a loop where an external condition is triggered, but to go on to complete the rest of the loop. That is, the current iteration of the loop will be disrupted, but the program will return to the top of the loop."
   ]
  },
  {
   "cell_type": "code",
   "execution_count": null,
   "metadata": {},
   "outputs": [],
   "source": [
    "number = 0\n",
    "\n",
    "for number in range(10):\n",
    "    if number == 5:\n",
    "        continue    # continue here\n",
    "\n",
    "    print('Number is ' + str(number))\n",
    "\n",
    "print('Out of loop')"
   ]
  },
  {
   "cell_type": "code",
   "execution_count": null,
   "metadata": {},
   "outputs": [],
   "source": [
    "# print odd numbers present in a list\n",
    "numbers = [1,2,3,4,5]\n",
    "\n",
    "for num in numbers:\n",
    "    if num%2 == 0:\n",
    "        continue\n",
    "    print(num)    \n",
    "else:\n",
    "    print(\"Do what ever you want\")"
   ]
  },
  {
   "cell_type": "code",
   "execution_count": null,
   "metadata": {},
   "outputs": [],
   "source": [
    "for i in range(0,4):\n",
    "    if i == 2:\n",
    "        continue\n",
    "    print(i)\n",
    "    \n",
    "print(\"Finished with i = \", str(i)) # All the numbers except for 2 are printed in the output    "
   ]
  },
  {
   "cell_type": "code",
   "execution_count": null,
   "metadata": {},
   "outputs": [],
   "source": [
    "i = 0 \n",
    "while i < 6:\n",
    "    i += 1\n",
    "    print(i)\n",
    "    if i == 3:\n",
    "        continue\n",
    "    print(i)    "
   ]
  },
  {
   "cell_type": "code",
   "execution_count": null,
   "metadata": {},
   "outputs": [],
   "source": [
    "# GAME\n",
    "random_number = int(20*5+5-10)\n",
    "\n",
    "guess = 0\n",
    "\n",
    "while guess != random_number:\n",
    "    guess = int(input(\"New Number: \"))\n",
    "    if guess > 0:\n",
    "        if guess > random_number:\n",
    "            print(\"number is too large\")\n",
    "        elif guess < random_number:\n",
    "            print(\"number is too small\")\n",
    "            \n",
    "    else:\n",
    "        print(\"sorry that you are give up!\")\n",
    "        break\n",
    "else:\n",
    "    print(\"Congratulations. YOU WON!\")"
   ]
  },
  {
   "cell_type": "markdown",
   "metadata": {},
   "source": [
    "# Pass"
   ]
  },
  {
   "cell_type": "markdown",
   "metadata": {},
   "source": [
    "When an external condition is triggered, the pass statement allows you to handle the condition without the loop being impacted in any way"
   ]
  },
  {
   "cell_type": "code",
   "execution_count": null,
   "metadata": {},
   "outputs": [],
   "source": [
    "number = 0\n",
    "\n",
    "for number in range(10):\n",
    "    if number == 5:\n",
    "        pass    # pass here\n",
    "\n",
    "    print('Number is ' + str(number))\n",
    "\n",
    "print('Out of loop')"
   ]
  },
  {
   "cell_type": "code",
   "execution_count": null,
   "metadata": {},
   "outputs": [],
   "source": []
  }
 ],
 "metadata": {
  "kernelspec": {
   "display_name": "Python 3",
   "language": "python",
   "name": "python3"
  },
  "language_info": {
   "codemirror_mode": {
    "name": "ipython",
    "version": 3
   },
   "file_extension": ".py",
   "mimetype": "text/x-python",
   "name": "python",
   "nbconvert_exporter": "python",
   "pygments_lexer": "ipython3",
   "version": "3.8.5"
  }
 },
 "nbformat": 4,
 "nbformat_minor": 4
}
